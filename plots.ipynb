{
 "cells": [
  {
   "cell_type": "markdown",
   "metadata": {},
   "source": [
    "### Plots for the standard assignment, task 1"
   ]
  },
  {
   "cell_type": "code",
   "execution_count": null,
   "metadata": {},
   "outputs": [],
   "source": [
    "# Imports and functions\n",
    "import matplotlib.pyplot as plt\n",
    "import numpy as np\n",
    "\n",
    "def plot_stats(statistics, simple_ga=False,ylog=False, view=False, filename='avg_fitness.svg', file_dir=None):\n",
    "    \"\"\" Plots the population's average and best fitness. \"\"\"\n",
    "    if plt is None:\n",
    "        warnings.warn(\"This display is not available due to a missing optional dependency (matplotlib)\")\n",
    "        return\n",
    "    if not simple_ga:\n",
    "        generation = range(len(statistics.most_fit_genomes))\n",
    "        best_fitness = [c.fitness for c in statistics.most_fit_genomes]\n",
    "        avg_fitness = np.array(statistics.get_fitness_mean())\n",
    "        stdev_fitness = np.array(statistics.get_fitness_stdev())\n",
    "    else:\n",
    "        generation = range(len(statistics.keys()))\n",
    "        best_fitness = np.array([statistics[k]['max_f'] for k, v in statistics.items()])\n",
    "        avg_fitness = np.array([statistics[k]['avg_f'] for k, v in statistics.items()])\n",
    "        stdev_fitness = np.array([statistics[k]['std_f'] for k, v in statistics.items()])\n",
    "\n",
    "    plt.plot(generation, avg_fitness, 'b-', label=\"average\")\n",
    "    plt.plot(generation, avg_fitness - stdev_fitness, 'g-.', label=\"-1 sd\")\n",
    "    plt.plot(generation, avg_fitness + stdev_fitness, 'g-.', label=\"+1 sd\")\n",
    "    plt.plot(generation, best_fitness, 'r-', label=\"best\")\n",
    "\n",
    "    plt.title(\"Population's average and best fitness\")\n",
    "    plt.xlabel(\"Generations\")\n",
    "    plt.ylabel(\"Fitness\")\n",
    "    plt.grid()\n",
    "    plt.legend(loc=\"best\")\n",
    "    if ylog:\n",
    "        plt.gca().set_yscale('symlog')\n",
    "\n",
    "    plt.savefig(file_dir + filename)\n",
    "    if view:\n",
    "        plt.show()\n",
    "\n",
    "    plt.close()\n",
    "\n",
    "def get_individual_gain(player_life:int, enemy_life:int)->int:\n",
    "    return player_life - enemy_life"
   ]
  },
  {
   "cell_type": "markdown",
   "metadata": {},
   "source": [
    "Compare your algorithms by enemy, making a line-plot across the generations, with\n",
    "the average/std (for the mean and the maximum) of the fitness. \n",
    "\n",
    "Note that you need to calculate the average (over the 10 runs) of the mean and maximum (over the\n",
    "population in each generation). Do one plot by enemy, thus, separately."
   ]
  },
  {
   "cell_type": "code",
   "execution_count": null,
   "metadata": {},
   "outputs": [],
   "source": [
    "# 3 plots, by enemy. Average of the mean and maximum per population over the 10 runs (and both algorithms in the same plot!)\n",
    "# See plot_stats for example, adjust where needed"
   ]
  },
  {
   "cell_type": "markdown",
   "metadata": {},
   "source": [
    "Compare your algorithms by enemy, testing 5 times your final best 3 solution for\n",
    "each of the 10 independent runs, and present the individual gain in box-plots. \n",
    "\n",
    "Note that you need to calculate the means of the 5 times for each solution of the algorithm\n",
    "for the enemy, and these means are the values that will be points in the box-plot.\n",
    "In summary, it is a total of 3 pairs of box-plots (so 6 boxes), being one pair per\n",
    "enemy. Additionally, do a statistical test to verify if the differences in the average of\n",
    "these means are significant between the groups of best solutions, when comparing\n",
    "two algorithms of an enemy"
   ]
  },
  {
   "cell_type": "code",
   "execution_count": null,
   "metadata": {},
   "outputs": [],
   "source": [
    "# Create an environment for top 3 winning neural nets for both algorithms (so 6 agents in total)\n",
    "# Run the game 10 times, record the stats (use get_individual_gain function)\n",
    "# plot 6 box plots\n"
   ]
  }
 ],
 "metadata": {
  "language_info": {
   "name": "python"
  },
  "orig_nbformat": 4
 },
 "nbformat": 4,
 "nbformat_minor": 2
}
