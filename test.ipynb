{
 "cells": [
  {
   "cell_type": "code",
   "execution_count": 1,
   "metadata": {},
   "outputs": [
    {
     "name": "stdout",
     "output_type": "stream",
     "text": [
      "pygame 2.1.2 (SDL 2.0.16, Python 3.10.6)\n",
      "Hello from the pygame community. https://www.pygame.org/contribute.html\n",
      "\n",
      "MESSAGE: Pygame initialized for simulation.\n"
     ]
    }
   ],
   "source": [
    "from math import factorial\n",
    "import sys, os, random, copy, math, pickle, visualize\n",
    "\n",
    "import matplotlib.pyplot as plt\n",
    "import numpy as np\n",
    "\n",
    "from deap import algorithms\n",
    "from deap import base\n",
    "from deap.benchmarks.tools import igd\n",
    "from deap import creator\n",
    "from deap import tools\n",
    "\n",
    "sys.path.insert(0, 'evoman') \n",
    "from environment import Environment\n",
    "from demo_controller import player_controller\n",
    "\n",
    "# choose this for not using visuals and thus making experiments faster\n",
    "headless = True\n",
    "if headless:\n",
    "    os.environ[\"SDL_VIDEODRIVER\"] = \"dummy\"\n",
    "\n",
    "# Init experiment\n",
    "experiment_name = 'deap_generalized_agent'\n",
    "OUTPUT_DIR = './' + experiment_name + '/'\n",
    "if not os.path.exists(experiment_name):\n",
    "    os.makedirs(experiment_name)\n",
    "\n",
    "# global training parameters\n",
    "n_population = 100\n",
    "n_generations = 250\n",
    "min_value = -1\n",
    "max_value = 1\n",
    "# Neural net parameters\n",
    "n_hidden_neurons = 10\n",
    "    # initializes environment with ai player using random controller, playing against static enemy\n",
    "env = Environment(experiment_name=experiment_name,\n",
    "                  multiplemode=\"yes\",\n",
    "                  randomini=\"yes\",\n",
    "                  clockprec=\"medium\",\n",
    "                  enemies=[1, 2, 3, 4, 5, 6, 7, 8],\n",
    "                  playermode=\"ai\",\n",
    "                  player_controller=player_controller(n_hidden_neurons),\n",
    "                  enemymode=\"static\",\n",
    "                  level=2,\n",
    "                  speed=\"normal\")\n",
    "n_weights = (env.get_num_sensors()+1)*n_hidden_neurons+(n_hidden_neurons+1)*5\n",
    "# DEAP parameters\n",
    "n_objectives = 3\n",
    "n_partitions = 12\n",
    "\n",
    "def eval_individual(individual):\n",
    "    \"\"\"Function to evaluate current individual \"\"\"\n",
    "    fitness, player_life, enemy_life, time = env.play(pcont=individual)\n",
    "    x1 = fitness\n",
    "    x2 = (player_life - enemy_life) - np.log(time)\n",
    "    x3 = player_life - np.log(time)\n",
    "    print((x1, x2, x3))\n",
    "    return (x1, x2, x3)\n",
    "\n",
    "def get_pickle_object(file_path):\n",
    "    file = open(file_path,'rb')\n",
    "    object_file = pickle.load(file)\n",
    "    return object_file\n",
    "\n",
    "# Create uniform reference point\n",
    "ref_points = tools.uniform_reference_points(n_objectives, n_partitions)\n",
    "\n",
    "# Create classes\n",
    "creator.create(\"FitnessMax\", base.Fitness, weights=(1.0, 1.0, 1.0))\n",
    "creator.create(\"Individual\", np.ndarray, fitness=creator.FitnessMax)\n",
    "\n",
    "# Toolbox initialization\n",
    "toolbox = base.Toolbox()\n",
    "toolbox.register(\"attr_bool\", random.uniform, min_value, max_value)\n",
    "toolbox.register(\"individual\", tools.initRepeat, creator.Individual, toolbox.attr_bool, n=n_weights)\n",
    "toolbox.register(\"population\", tools.initRepeat, list, toolbox.individual)\n",
    "\n",
    "toolbox.register(\"evaluate\", eval_individual)\n",
    "toolbox.register(\"mate\", tools.cxSimulatedBinaryBounded, low=min_value, up=max_value, eta=30.0)\n",
    "toolbox.register(\"mutate\", tools.mutPolynomialBounded, low=min_value, up=max_value, eta=20.0, indpb=1.0/n_weights)\n",
    "toolbox.register(\"select\", tools.selNSGA3, ref_points=ref_points)"
   ]
  },
  {
   "cell_type": "code",
   "execution_count": null,
   "metadata": {},
   "outputs": [],
   "source": [
    "test = get_pickle_object('./deap_generalized_agent/deap_stats_object')\n",
    "\n",
    "print(test)"
   ]
  },
  {
   "cell_type": "code",
   "execution_count": 6,
   "metadata": {},
   "outputs": [
    {
     "name": "stdout",
     "output_type": "stream",
     "text": [
      "(91.10669517527555, 58.70669517527585, 58.70669517527585)\n",
      "(90.92661051127251, 59.3016826334523, 59.3016826334523)\n"
     ]
    }
   ],
   "source": [
    "hof = 0\n",
    "hof_tup = (0.0, 0.0, 0.0)\n",
    "for key, value in test.items():\n",
    "    if type(key) == int and key >= 264:\n",
    "        for individual in value:\n",
    "            if individual.fitness.values[1] > hof_tup[1]:\n",
    "                hof = individual\n",
    "                hof_tup = individual.fitness.values\n",
    "                print(individual.fitness.values)"
   ]
  },
  {
   "cell_type": "code",
   "execution_count": 7,
   "metadata": {},
   "outputs": [
    {
     "name": "stdout",
     "output_type": "stream",
     "text": [
      "\n",
      "RUN: run status: enemy: 1; fitness: 4.456705217729996; player life: 0; enemy life: 90.0; time: 94\n",
      "\n",
      "RUN: run status: enemy: 2; fitness: 91.35657488308075; player life: 64; enemy life: 0; time: 155\n",
      "\n",
      "RUN: run status: enemy: 3; fitness: 49.02326625757942; player life: 0; enemy life: 40.0; time: 145\n",
      "\n",
      "RUN: run status: enemy: 4; fitness: 21.82385026742617; player life: 0; enemy life: 70.0; time: 177\n",
      "\n",
      "RUN: run status: enemy: 5; fitness: 87.05520676758503; player life: 31.600000000000264; enemy life: 0; time: 448\n",
      "\n",
      "RUN: run status: enemy: 6; fitness: 57.5489615464343; player life: 0; enemy life: 30.0; time: 233\n",
      "\n",
      "RUN: run status: enemy: 7; fitness: 89.43679627126204; player life: 47.2000000000003; enemy life: 0; time: 197\n",
      "\n",
      "RUN: run status: enemy: 8; fitness: 85.83531660910582; player life: 19.600000000000236; enemy life: 0; time: 457\n"
     ]
    }
   ],
   "source": [
    "fitness, player_life, enemy_life, time = env.play(pcont=hof)"
   ]
  }
 ],
 "metadata": {
  "interpreter": {
   "hash": "916dbcbb3f70747c44a77c7bcd40155683ae19c65e1c03b4aa3499c5328201f1"
  },
  "kernelspec": {
   "display_name": "Python 3.10.6 64-bit",
   "language": "python",
   "name": "python3"
  },
  "language_info": {
   "codemirror_mode": {
    "name": "ipython",
    "version": 3
   },
   "file_extension": ".py",
   "mimetype": "text/x-python",
   "name": "python",
   "nbconvert_exporter": "python",
   "pygments_lexer": "ipython3",
   "version": "3.10.6"
  },
  "orig_nbformat": 4
 },
 "nbformat": 4,
 "nbformat_minor": 2
}
